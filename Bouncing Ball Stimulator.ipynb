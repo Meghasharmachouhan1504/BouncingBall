{
 "cells": [
  {
   "cell_type": "code",
   "execution_count": 3,
   "id": "07a90388",
   "metadata": {},
   "outputs": [
    {
     "name": "stdout",
     "output_type": "stream",
     "text": [
      "Requirement already satisfied: pygame in /Library/Frameworks/Python.framework/Versions/3.10/lib/python3.10/site-packages (2.1.2)\n",
      "Note: you may need to restart the kernel to use updated packages.\n"
     ]
    }
   ],
   "source": [
    "pip install pygame"
   ]
  },
  {
   "cell_type": "code",
   "execution_count": 4,
   "id": "7eeda6e8",
   "metadata": {},
   "outputs": [],
   "source": [
    "# this program shows stimulation of 5 balls bouncing under gravitational acceleration\n",
    "# it is also accoumpanied by elastic collision with walls of the container\n",
    "# it is fun to watch "
   ]
  },
  {
   "cell_type": "code",
   "execution_count": null,
   "id": "f804e628",
   "metadata": {},
   "outputs": [],
   "source": [
    "# settiong screen size of pygame window to 800 by 600 pixels\n",
    "\n",
    "import pygame,time,random\n",
    "pygame.init()\n",
    "#setting screen size of pygame window to 800 by 600 pixels\n",
    "screen=pygame.display.set_mode((800,600))\n",
    "background=pygame.image.load('background-img.jpg')\n",
    "#Adding title\n",
    "pygame.display.set_caption('Pygame bouncing ball')\n",
    "class ball:\n",
    "    ball_image=pygame.image.load('ball.png')\n",
    "    def _init_(self):\n",
    "        self.velocityX=4\n",
    "        self.velocityY=4\n",
    "        self.X = random.randint(0,768)\n",
    "        self.Y = random.randint(0,568)\n",
    "        \n",
    "        \n",
    "    def render_ball(self):\n",
    "        screen.blit(ball.ball_image,(self.X,self.Y))\n",
    "        \n",
    "    def mov_ball(self):\n",
    "        \n",
    "        # changing y component of velocity due to downward acceleration\n",
    "        self.velocityY+=ball.g\n",
    "        #changing position based on velocity\n",
    "        self.X+=self.velocityX\n",
    "        self.Y+=self.velocityY\n",
    "        \n",
    "        \n",
    "        #COLLISION WITH THE WALLS LEAD TO CHANGE IN VELOCITY\n",
    "        if self.X<0 or self.X>768:\n",
    "            self.velocityX*=-1\n",
    "        if self.Y<0 or self.velocityY<0:\n",
    "            self.velocityY*=-1 \n",
    "            self.Y=0\n",
    "        if self.Y>568 and self.velocityY>0:\n",
    "            self.velocityY*=-1 \n",
    "            self.Y=568\n",
    "            \n",
    "        # list of balls created as objects \n",
    "Ball_List = [ball(),ball(),ball(),ball(),ball()]\n",
    "        \n",
    "        # the main program loop\n",
    "        \n",
    "running=True\n",
    "while running:\n",
    "        for event in pygame.event.get():\n",
    "            if event.type==pygame.QUIT:\n",
    "                running = False\n",
    "                pygame.quit()\n",
    "                    \n",
    "time.sleep(0.02)\n",
    "screen.blit(background,(0,0))\n",
    "for ball_item in Ball_List:\n",
    "    ball_item.render_ball()\n",
    "    ball_item.move_ball()\n",
    "            \n",
    "pygame.display.update() "
   ]
  }
 ],
 "metadata": {
  "kernelspec": {
   "display_name": "Python 3 (ipykernel)",
   "language": "python",
   "name": "python3"
  },
  "language_info": {
   "codemirror_mode": {
    "name": "ipython",
    "version": 3
   },
   "file_extension": ".py",
   "mimetype": "text/x-python",
   "name": "python",
   "nbconvert_exporter": "python",
   "pygments_lexer": "ipython3",
   "version": "3.10.5"
  }
 },
 "nbformat": 4,
 "nbformat_minor": 5
}
