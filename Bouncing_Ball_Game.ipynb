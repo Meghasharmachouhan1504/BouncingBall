{
 "cells": [
  {
   "cell_type": "code",
   "execution_count": 11,
   "id": "4ee6dd39",
   "metadata": {},
   "outputs": [
    {
     "name": "stdout",
     "output_type": "stream",
     "text": [
      "Requirement already satisfied: pygame in /Library/Frameworks/Python.framework/Versions/3.10/lib/python3.10/site-packages (2.1.2)\n",
      "Note: you may need to restart the kernel to use updated packages.\n"
     ]
    }
   ],
   "source": [
    "pip install pygame\n"
   ]
  },
  {
   "cell_type": "code",
   "execution_count": 2,
   "id": "3efbdfb4",
   "metadata": {},
   "outputs": [],
   "source": [
    "# this program shows stimulation of 5 balls bouncing under gravitational acceleration\n",
    "# it is also accoumpanied by elastic collision with walls of the container\n",
    "# it is fun to watch "
   ]
  },
  {
   "cell_type": "code",
   "execution_count": 19,
   "id": "93699dcd",
   "metadata": {},
   "outputs": [
    {
     "ename": "ImportError",
     "evalue": "dlopen(/Library/Frameworks/Python.framework/Versions/3.10/lib/python3.10/site-packages/pygame/sdlmain_osx.cpython-310-darwin.so, 2): Symbol not found: _OBJC_CLASS_$_NSAutoreleasePool\n  Referenced from: /Library/Frameworks/Python.framework/Versions/3.10/lib/python3.10/site-packages/pygame/sdlmain_osx.cpython-310-darwin.so\n  Expected in: flat namespace\n in /Library/Frameworks/Python.framework/Versions/3.10/lib/python3.10/site-packages/pygame/sdlmain_osx.cpython-310-darwin.so",
     "output_type": "error",
     "traceback": [
      "\u001b[0;31m---------------------------------------------------------------------------\u001b[0m",
      "\u001b[0;31mImportError\u001b[0m                               Traceback (most recent call last)",
      "Input \u001b[0;32mIn [19]\u001b[0m, in \u001b[0;36m<cell line: 6>\u001b[0;34m()\u001b[0m\n\u001b[1;32m      4\u001b[0m pygame\u001b[38;5;241m.\u001b[39minit()\n\u001b[1;32m      5\u001b[0m \u001b[38;5;66;03m#setting screen size of pygame window to 800 by 600 pixels\u001b[39;00m\n\u001b[0;32m----> 6\u001b[0m screen\u001b[38;5;241m=\u001b[39m\u001b[43mpygame\u001b[49m\u001b[38;5;241;43m.\u001b[39;49m\u001b[43mdisplay\u001b[49m\u001b[38;5;241;43m.\u001b[39;49m\u001b[43mset_mode\u001b[49m\u001b[43m(\u001b[49m\u001b[43m(\u001b[49m\u001b[38;5;241;43m800\u001b[39;49m\u001b[43m,\u001b[49m\u001b[38;5;241;43m600\u001b[39;49m\u001b[43m)\u001b[49m\u001b[43m)\u001b[49m\n\u001b[1;32m      7\u001b[0m background\u001b[38;5;241m=\u001b[39mpygame\u001b[38;5;241m.\u001b[39mimage\u001b[38;5;241m.\u001b[39mload(\u001b[38;5;124m'\u001b[39m\u001b[38;5;124mbackground-img.jpg\u001b[39m\u001b[38;5;124m'\u001b[39m)\n\u001b[1;32m      8\u001b[0m \u001b[38;5;66;03m#Adding title\u001b[39;00m\n",
      "File \u001b[0;32m/Library/Frameworks/Python.framework/Versions/3.10/lib/python3.10/site-packages/pygame/macosx.py:5\u001b[0m, in \u001b[0;36m<module>\u001b[0;34m\u001b[0m\n\u001b[1;32m      3\u001b[0m \u001b[38;5;28;01mimport\u001b[39;00m \u001b[38;5;21;01msys\u001b[39;00m\n\u001b[1;32m      4\u001b[0m \u001b[38;5;28;01mfrom\u001b[39;00m \u001b[38;5;21;01mpygame\u001b[39;00m\u001b[38;5;21;01m.\u001b[39;00m\u001b[38;5;21;01mpkgdata\u001b[39;00m \u001b[38;5;28;01mimport\u001b[39;00m getResource\n\u001b[0;32m----> 5\u001b[0m \u001b[38;5;28;01mfrom\u001b[39;00m \u001b[38;5;21;01mpygame\u001b[39;00m \u001b[38;5;28;01mimport\u001b[39;00m sdlmain_osx\n\u001b[1;32m      7\u001b[0m __all__ \u001b[38;5;241m=\u001b[39m [\u001b[38;5;124m\"\u001b[39m\u001b[38;5;124mVideo_AutoInit\u001b[39m\u001b[38;5;124m\"\u001b[39m]\n\u001b[1;32m     10\u001b[0m \u001b[38;5;28;01mdef\u001b[39;00m \u001b[38;5;21mVideo_AutoInit\u001b[39m():\n",
      "\u001b[0;31mImportError\u001b[0m: dlopen(/Library/Frameworks/Python.framework/Versions/3.10/lib/python3.10/site-packages/pygame/sdlmain_osx.cpython-310-darwin.so, 2): Symbol not found: _OBJC_CLASS_$_NSAutoreleasePool\n  Referenced from: /Library/Frameworks/Python.framework/Versions/3.10/lib/python3.10/site-packages/pygame/sdlmain_osx.cpython-310-darwin.so\n  Expected in: flat namespace\n in /Library/Frameworks/Python.framework/Versions/3.10/lib/python3.10/site-packages/pygame/sdlmain_osx.cpython-310-darwin.so"
     ]
    }
   ],
   "source": [
    "# settiong screen size of pygame window to 800 by 600 pixels\n",
    "\n",
    "import pygame,time,random\n",
    "pygame.init()\n",
    "#setting screen size of pygame window to 800 by 600 pixels\n",
    "screen=pygame.display.set_mode((800,600))\n",
    "background=pygame.image.load('background-img.jpg')\n",
    "#Adding title\n",
    "pygame.display.set_caption('Pygame bouncing ball')\n",
    "class ball:\n",
    "    ball_image=pygame.image.load('ball.png')\n",
    "    def _init_(self):\n",
    "        self.velocityX=4\n",
    "        self.velocityY=4\n",
    "        self.X = random.randint(0,768)\n",
    "        self.Y = random.randint(0,568)\n",
    "        \n",
    "        \n",
    "    def render_ball(self):\n",
    "        screen.blit(ball.ball_image,(self.X,self.Y))\n",
    "        \n",
    "    def mov_ball(self):\n",
    "        \n",
    "        # changing y component of velocity due to downward acceleration\n",
    "        self.velocityY+=ball.g\n",
    "        #changing position based on velocity\n",
    "        self.X+=self.velocityX\n",
    "        self.Y+=self.velocityY\n",
    "        \n",
    "        \n",
    "        #COLLISION WITH THE WALLS LEAD TO CHANGE IN VELOCITY\n",
    "        if self.X<0 or self.X>768:\n",
    "            self.velocityX*=-1\n",
    "        if self.Y<0 or self.velocityY<0:\n",
    "            self.velocityY*=-1 \n",
    "            self.Y=0\n",
    "        if self.Y>568 and self.velocityY>0:\n",
    "            self.velocityY*=-1 \n",
    "            self.Y=568\n",
    "            \n",
    "        # list of balls created as objects \n",
    "Ball_List = [ball(),ball(),ball(),ball(),ball()]\n",
    "        \n",
    "        # the main program loop\n",
    "        \n",
    "running=True\n",
    "while running:\n",
    "        for event in pygame.event.get():\n",
    "            if event.type==pygame.QUIT:\n",
    "                running = False\n",
    "                pygame.quit()\n",
    "                    \n",
    "time.sleep(0.02)\n",
    "screen.blit(background,(0,0))\n",
    "for ball_item in Ball_List:\n",
    "    ball_item.render_ball()\n",
    "    ball_item.move_ball()\n",
    "            \n",
    "pygame.display.update()    "
   ]
  },
  {
   "cell_type": "code",
   "execution_count": null,
   "id": "15a7bda6",
   "metadata": {},
   "outputs": [],
   "source": []
  }
 ],
 "metadata": {
  "kernelspec": {
   "display_name": "Python 3 (ipykernel)",
   "language": "python",
   "name": "python3"
  },
  "language_info": {
   "codemirror_mode": {
    "name": "ipython",
    "version": 3
   },
   "file_extension": ".py",
   "mimetype": "text/x-python",
   "name": "python",
   "nbconvert_exporter": "python",
   "pygments_lexer": "ipython3",
   "version": "3.10.5"
  }
 },
 "nbformat": 4,
 "nbformat_minor": 5
}
